{
 "cells": [
  {
   "cell_type": "code",
   "execution_count": null,
   "metadata": {},
   "outputs": [
    {
     "name": "stdout",
     "output_type": "stream",
     "text": [
      "Intersection volume of dimension 5 (Method 1): 0.999640\n",
      "Intersection volume of dimension 10 (Method 1): 0.761870\n",
      "Intersection volume of dimension 15 (Method 1): 0.195760\n",
      "Intersection volume of dimension 20 (Method 1): 0.018180\n"
     ]
    }
   ],
   "source": [
    "import numpy as np\n",
    "from scipy.special import gamma\n",
    "\n",
    "# Calculate the volume of the unit sphere\n",
    "def ball_volume(d):\n",
    "    return (np.pi ** (d / 2)) / (gamma(d / 2 + 1))\n",
    "\n",
    "# Method 1: Generate random points from C^d\n",
    "def monte_carlo_cd(d, num_points=100000):\n",
    "    # Method 1: Generate random points from C^d\n",
    "    points = np.random.uniform(-0.5, 0.5, size=(num_points, d))\n",
    "    # Calculate the square of the Euclidean norm for each point\n",
    "    distances = np.sum(points ** 2, axis=1)\n",
    "    # Calculate the square of the Euclidean norm for each point\n",
    "    inside_ball = distances <= 1\n",
    "    # Calculate the proportion falling in the intersection area\n",
    "    intersection_ratio = np.sum(inside_ball) / num_points\n",
    "\n",
    "    return intersection_ratio  # 直接返回交集体积\n",
    "\n",
    "# Test different dimensions\n",
    "dimensions = [5, 10, 15, 20]\n",
    "for d in dimensions:\n",
    "    vol_intersection = monte_carlo_cd(d)\n",
    "    print(f\"Intersection volume of dimension {d} (Method 1): {vol_intersection:.6f}\")"
   ]
  },
  {
   "cell_type": "code",
   "execution_count": null,
   "metadata": {},
   "outputs": [
    {
     "name": "stdout",
     "output_type": "stream",
     "text": [
      "Intersection volume of dimension 5 (Method 2): 0.996698\n",
      "Intersection volume of dimension 10 (Method 2): 0.765228\n",
      "Intersection volume of dimension 15 (Method 2): 0.197221\n",
      "Intersection volume of dimension 20 (Method 2): 0.018193\n"
     ]
    }
   ],
   "source": [
    "def monte_carlo_bd(d, num_points=100000):\n",
    "    # Generate random points in the unit sphere\n",
    "    points = np.random.normal(size=(num_points, d))  # Normal distribution generating points\n",
    "    norms = np.linalg.norm(points, axis=1, keepdims=True)  # Calculate the norm of each point\n",
    "    points = points / norms  # Normalize points to the unit sphere\n",
    "    radii = np.random.uniform(0, 1, size=(num_points, 1)) ** (1 / d)  # Random radius\n",
    "    points = points * radii  # Get uniformly distributed points within the unit sphere\n",
    "    # Determine which points fall within C^d\n",
    "    inside_cube = np.all(np.abs(points) <= 0.5, axis=1)\n",
    "    # Calculate the proportion falling in the intersection area\n",
    "    intersection_ratio = np.sum(inside_cube) / num_points\n",
    "    # Unit sphere volume\n",
    "    vol_ball = ball_volume(d)\n",
    "    return intersection_ratio * vol_ball  # Returns the intersection volume\n",
    "\n",
    "# Test different dimensions\n",
    "for d in dimensions:\n",
    "    vol_intersection = monte_carlo_bd(d)\n",
    "    print(f\"Intersection volume of dimension {d} (Method 2): {vol_intersection:.6f}\")\n"
   ]
  }
 ],
 "metadata": {
  "kernelspec": {
   "display_name": "cmsc",
   "language": "python",
   "name": "python3"
  },
  "language_info": {
   "codemirror_mode": {
    "name": "ipython",
    "version": 3
   },
   "file_extension": ".py",
   "mimetype": "text/x-python",
   "name": "python",
   "nbconvert_exporter": "python",
   "pygments_lexer": "ipython3",
   "version": "3.13.0"
  }
 },
 "nbformat": 4,
 "nbformat_minor": 2
}
