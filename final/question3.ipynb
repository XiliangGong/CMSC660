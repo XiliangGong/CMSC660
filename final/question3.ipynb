{
 "cells": [
  {
   "cell_type": "code",
   "execution_count": 1,
   "metadata": {},
   "outputs": [
    {
     "name": "stdout",
     "output_type": "stream",
     "text": [
      "维度 5 的交集体积 (方法一): 0.999600\n",
      "维度 10 的交集体积 (方法一): 0.763620\n",
      "维度 15 的交集体积 (方法一): 0.199300\n",
      "维度 20 的交集体积 (方法一): 0.018640\n"
     ]
    }
   ],
   "source": [
    "import numpy as np\n",
    "from scipy.special import gamma\n",
    "\n",
    "# 计算单位球的体积\n",
    "def ball_volume(d):\n",
    "    return (np.pi ** (d / 2)) / (gamma(d / 2 + 1))\n",
    "\n",
    "# 方法一：从 C^d 中生成随机点\n",
    "def monte_carlo_cd(d, num_points=100000):\n",
    "    # 随机生成点，每个坐标在 [-0.5, 0.5]\n",
    "    points = np.random.uniform(-0.5, 0.5, size=(num_points, d))\n",
    "    # 计算每个点的欧几里得范数平方\n",
    "    distances = np.sum(points ** 2, axis=1)\n",
    "    # 判断哪些点落在 B^d 内\n",
    "    inside_ball = distances <= 1\n",
    "    # 计算落在交集区域的比例\n",
    "    intersection_ratio = np.sum(inside_ball) / num_points\n",
    "    # \\( C^d \\) 的体积为 1\n",
    "    return intersection_ratio  # 直接返回交集体积\n",
    "\n",
    "# 测试不同维度\n",
    "dimensions = [5, 10, 15, 20]\n",
    "for d in dimensions:\n",
    "    vol_intersection = monte_carlo_cd(d)\n",
    "    print(f\"维度 {d} 的交集体积 (方法一): {vol_intersection:.6f}\")"
   ]
  },
  {
   "cell_type": "code",
   "execution_count": 2,
   "metadata": {},
   "outputs": [
    {
     "name": "stdout",
     "output_type": "stream",
     "text": [
      "维度 5 的交集体积 (方法二): 1.009437\n",
      "维度 10 的交集体积 (方法二): 0.763927\n",
      "维度 15 的交集体积 (方法二): 0.197588\n",
      "维度 20 的交集体积 (方法二): 0.018255\n"
     ]
    }
   ],
   "source": [
    "def monte_carlo_bd(d, num_points=100000):\n",
    "    # 在单位球中生成随机点\n",
    "    points = np.random.normal(size=(num_points, d))  # 正态分布生成点\n",
    "    norms = np.linalg.norm(points, axis=1, keepdims=True)  # 计算每个点的范数\n",
    "    points = points / norms  # 将点归一化到单位球面上\n",
    "    radii = np.random.uniform(0, 1, size=(num_points, 1)) ** (1 / d)  # 随机半径\n",
    "    points = points * radii  # 得到单位球内均匀分布的点\n",
    "    # 判断哪些点落在 C^d 内\n",
    "    inside_cube = np.all(np.abs(points) <= 0.5, axis=1)\n",
    "    # 计算落在交集区域的比例\n",
    "    intersection_ratio = np.sum(inside_cube) / num_points\n",
    "    # 单位球体积\n",
    "    vol_ball = ball_volume(d)\n",
    "    return intersection_ratio * vol_ball  # 返回交集体积\n",
    "\n",
    "# 测试不同维度\n",
    "for d in dimensions:\n",
    "    vol_intersection = monte_carlo_bd(d)\n",
    "    print(f\"维度 {d} 的交集体积 (方法二): {vol_intersection:.6f}\")\n"
   ]
  }
 ],
 "metadata": {
  "kernelspec": {
   "display_name": "cmsc",
   "language": "python",
   "name": "python3"
  },
  "language_info": {
   "codemirror_mode": {
    "name": "ipython",
    "version": 3
   },
   "file_extension": ".py",
   "mimetype": "text/x-python",
   "name": "python",
   "nbconvert_exporter": "python",
   "pygments_lexer": "ipython3",
   "version": "3.13.0"
  }
 },
 "nbformat": 4,
 "nbformat_minor": 2
}
